{
 "cells": [
  {
   "cell_type": "code",
   "execution_count": 1,
   "id": "5b3ebc3a-29e3-4c92-b348-5ac2bb0abd17",
   "metadata": {},
   "outputs": [
    {
     "name": "stderr",
     "output_type": "stream",
     "text": [
      "pybullet build time: Jan 18 2022 19:47:23\n"
     ]
    }
   ],
   "source": [
    "import pybullet as p\n",
    "import pybullet_data\n",
    "from pybullet_sim_panda.utils import *\n",
    "import time\n",
    "from pybullet_sim_panda.kinematics import PandaKinematics\n",
    "import numpy as np"
   ]
  },
  {
   "cell_type": "code",
   "execution_count": 2,
   "id": "4c783fa7",
   "metadata": {},
   "outputs": [
    {
     "name": "stdout",
     "output_type": "stream",
     "text": [
      "startThreads creating 1 threads.\n",
      "starting thread 0\n",
      "started thread 0 \n",
      "argc=2\n",
      "argv[0] = --unused\n",
      "argv[1] = --start_demo_name=Physics Server\n",
      "ExampleBrowserThreadFunc started\n",
      "X11 functions dynamically loaded using dlopen/dlsym OK!\n",
      "X11 functions dynamically loaded using dlopen/dlsym OK!\n",
      "Creating context\n",
      "Created GL 3.3 context\n",
      "Direct GLX rendering context obtained\n",
      "Making context current\n",
      "GL_VENDOR=NVIDIA Corporation\n",
      "GL_RENDERER=NVIDIA GeForce GTX 1650/PCIe/SSE2\n",
      "GL_VERSION=3.3.0 NVIDIA 470.103.01\n",
      "GL_SHADING_LANGUAGE_VERSION=3.30 NVIDIA via Cg compiler\n",
      "pthread_getconcurrency()=0\n",
      "Version = 3.3.0 NVIDIA 470.103.01\n",
      "Vendor = NVIDIA Corporation\n",
      "Renderer = NVIDIA GeForce GTX 1650/PCIe/SSE2\n",
      "b3Printf: Selected demo: Physics Server\n",
      "startThreads creating 1 threads.\n",
      "starting thread 0\n",
      "started thread 0 \n",
      "MotionThreadFunc thread started\n",
      "ven = NVIDIA Corporation\n",
      "ven = NVIDIA Corporation\n"
     ]
    }
   ],
   "source": [
    "uid = p.connect(p.GUI)\n",
    "p.setAdditionalSearchPath(pybullet_data.getDataPath()) # for loading plane\n",
    "\n",
    "# Simulation configuration (if you want to use only kinematics, you don't need to use this)\n",
    "# rate = 240.\n",
    "# p.setTimeStep(1/rate)\n",
    "# p.resetSimulation() #init\n",
    "# p.setGravity(0, 0, -9.8) #set gravity\n",
    "\n",
    "# Load\n",
    "plane_id = p.loadURDF(\"plane.urdf\") # load plane\n",
    "panda = PandaKinematics(p, uid) # load robot"
   ]
  },
  {
   "cell_type": "markdown",
   "id": "902cef81",
   "metadata": {},
   "source": [
    "### Kinematics Simulation"
   ]
  },
  {
   "cell_type": "code",
   "execution_count": 3,
   "id": "1c047a34",
   "metadata": {},
   "outputs": [],
   "source": [
    "panda.set_arm_positions([0,0,0,0,0,1,1])\n",
    "# panda.set_arm_positions(panda._joint_mid_positions)"
   ]
  },
  {
   "cell_type": "code",
   "execution_count": 4,
   "id": "6c8503a5-29e6-45b6-aff2-604164f60d9a",
   "metadata": {},
   "outputs": [
    {
     "name": "stdout",
     "output_type": "stream",
     "text": [
      "[0.0, 0.0, 0.0, 0.0, 0.0, 1.0, 1.0]\n",
      "[0. 0. 0. 0. 0. 1. 1.]\n"
     ]
    }
   ],
   "source": [
    "# get joint values\n",
    "states = panda.get_states()\n",
    "joints = panda.get_arm_positions()\n",
    "print(states[\"position\"])\n",
    "print(joints)\n",
    "# print(panda._get_joint_info())"
   ]
  },
  {
   "cell_type": "code",
   "execution_count": 5,
   "id": "31b6d64f",
   "metadata": {},
   "outputs": [],
   "source": [
    "panda.set_home_positions()\n",
    "panda.open()"
   ]
  },
  {
   "cell_type": "code",
   "execution_count": 6,
   "id": "51fc24bd",
   "metadata": {},
   "outputs": [
    {
     "name": "stdout",
     "output_type": "stream",
     "text": [
      "[ 0.1125 -0.02    0.679 ] [ 0.5  0.5  0.5 -0.5]\n",
      "[ 5.54500000e-01 -3.21955792e-12  5.19500000e-01] [ 4.89679979e-12  1.00000000e+00 -2.24154029e-13  5.30897989e-17]\n"
     ]
    }
   ],
   "source": [
    "pos, ori = panda.get_link_pose(3)\n",
    "print(pos, ori)\n",
    "print(*panda.get_ee_pose())"
   ]
  },
  {
   "cell_type": "code",
   "execution_count": 7,
   "id": "b52005e1",
   "metadata": {},
   "outputs": [
    {
     "name": "stdout",
     "output_type": "stream",
     "text": [
      "False\n"
     ]
    }
   ],
   "source": [
    "pos, ori = panda.FK([0,0,0,-1,2,1,2])\n",
    "success, joints = panda.IK(pos, ori)\n",
    "print(success)"
   ]
  },
  {
   "cell_type": "markdown",
   "id": "efae6800",
   "metadata": {},
   "source": [
    "### Example"
   ]
  },
  {
   "cell_type": "code",
   "execution_count": 8,
   "id": "25582d6f",
   "metadata": {},
   "outputs": [],
   "source": [
    "import time # to use of the time.sleep()"
   ]
  },
  {
   "cell_type": "code",
   "execution_count": 9,
   "id": "68867f5d",
   "metadata": {},
   "outputs": [],
   "source": [
    "panda.set_home_positions()\n",
    "pos_curr, _ = panda.get_ee_pose()\n",
    "pos_goal = pos_curr + 0.1\n",
    "\n",
    "# show current/goal position\n",
    "clear()\n",
    "view_point(pos_curr)\n",
    "view_point(pos_goal)"
   ]
  },
  {
   "cell_type": "code",
   "execution_count": 11,
   "id": "9275dbc6",
   "metadata": {},
   "outputs": [
    {
     "name": "stdout",
     "output_type": "stream",
     "text": [
      "[0.07144292 0.18806822 0.06522421 0.29882233 0.02206854 0.36367351\n",
      " 0.        ]\n",
      "[0.07169365 0.20125309 0.06404127 0.30631482 0.02134811 0.37751223\n",
      " 0.        ]\n",
      "[0.07232589 0.21520552 0.06298136 0.31476732 0.02066242 0.39247804\n",
      " 0.        ]\n",
      "[0.07338897 0.23012341 0.06204456 0.3243774  0.02000628 0.4088474\n",
      " 0.        ]\n",
      "[0.07494637 0.24625993 0.06123176 0.33539854 0.01937387 0.42697259\n",
      " 0.        ]\n",
      "[0.07708124 0.26394624 0.06054505 0.34816382 0.01875846 0.44731346\n",
      " 0.        ]\n",
      "[0.07990482 0.283627   0.05998818 0.36312252 0.0181519  0.47048662\n",
      " 0.        ]\n",
      "[0.08356987 0.30591737 0.05956743 0.38089908 0.01754389 0.49734465\n",
      " 0.        ]\n",
      "[0.08829286 0.3316995  0.05929295 0.40239264 0.01692065 0.52910962\n",
      " 0.        ]\n",
      "[0.09439301 0.36229424 0.05918136 0.42895433 0.01626253 0.56761063\n",
      " 0.        ]\n"
     ]
    }
   ],
   "source": [
    "step = 10\n",
    "for i in range(step):\n",
    "    jac = panda.get_space_jacobian()[3:]\n",
    "    # print(\"============= Jacobian start =============\")\n",
    "    # print(np.linalg.pinv(jac))\n",
    "    # print(\"============= Jacobian end =============\")\n",
    "\n",
    "    q_delta = np.linalg.pinv(jac) @ (pos_goal - pos_curr)\n",
    "    print(q_delta.shape)\n",
    "    print(jac.shape)\n",
    "    print(pos_curr.shape)\n",
    "    q_new = panda.get_arm_positions() + q_delta/step\n",
    "    panda.set_arm_positions(q_new)\n",
    "    time.sleep(0.1)"
   ]
  }
 ],
 "metadata": {
  "kernelspec": {
   "display_name": "Python 3 (ipykernel)",
   "language": "python",
   "name": "python3"
  },
  "language_info": {
   "codemirror_mode": {
    "name": "ipython",
    "version": 3
   },
   "file_extension": ".py",
   "mimetype": "text/x-python",
   "name": "python",
   "nbconvert_exporter": "python",
   "pygments_lexer": "ipython3",
   "version": "3.10.2"
  }
 },
 "nbformat": 4,
 "nbformat_minor": 5
}
